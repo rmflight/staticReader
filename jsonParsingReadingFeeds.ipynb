{
 "metadata": {
  "name": "jsonParsingReadingFeeds"
 },
 "nbformat": 3,
 "nbformat_minor": 0,
 "worksheets": [
  {
   "cells": [
    {
     "cell_type": "code",
     "collapsed": false,
     "input": [
      "import feedparser\n",
      "import json"
     ],
     "language": "python",
     "metadata": {},
     "outputs": [],
     "prompt_number": 3
    },
    {
     "cell_type": "code",
     "collapsed": false,
     "input": [
      "json_data=open(\"test.json\").read()\n",
      "data = json.loads(json_data)"
     ],
     "language": "python",
     "metadata": {},
     "outputs": [],
     "prompt_number": 7
    },
    {
     "cell_type": "code",
     "collapsed": false,
     "input": [
      "data.items()\n",
      "data.keys()"
     ],
     "language": "python",
     "metadata": {},
     "outputs": [
      {
       "output_type": "pyout",
       "prompt_number": 11,
       "text": [
        "[u'feeds']"
       ]
      }
     ],
     "prompt_number": 11
    },
    {
     "cell_type": "code",
     "collapsed": false,
     "input": [
      "feedTitle = data.values()[0][1].keys()\n",
      "feedLoc = data.values()[0][1].values()\n"
     ],
     "language": "python",
     "metadata": {},
     "outputs": [],
     "prompt_number": 64
    },
    {
     "cell_type": "code",
     "collapsed": false,
     "input": [
      "feedData = feedparser.parse(feedLoc[0])"
     ],
     "language": "python",
     "metadata": {},
     "outputs": [],
     "prompt_number": 65
    },
    {
     "cell_type": "code",
     "collapsed": false,
     "input": [
      "feedData.modified"
     ],
     "language": "python",
     "metadata": {},
     "outputs": [
      {
       "output_type": "pyout",
       "prompt_number": 67,
       "text": [
        "'Fri, 13 Sep 2013 17:51:18 GMT'"
       ]
      }
     ],
     "prompt_number": 67
    },
    {
     "cell_type": "code",
     "collapsed": false,
     "input": [
      "d2 = feedparser.parse(feedLoc[0], modified=feedData.modified)"
     ],
     "language": "python",
     "metadata": {},
     "outputs": [],
     "prompt_number": 68
    },
    {
     "cell_type": "code",
     "collapsed": false,
     "input": [
      "d2"
     ],
     "language": "python",
     "metadata": {},
     "outputs": [
      {
       "output_type": "pyout",
       "prompt_number": 69,
       "text": [
        "{'bozo': 0,\n",
        " 'debug_message': 'The feed has not changed since you last checked, so the server sent no data.  This is a feature, not a bug!',\n",
        " 'entries': [],\n",
        " 'etag': u'\"a564eb46d05d6c1fc040ddf1dc904105\"',\n",
        " 'feed': {},\n",
        " 'headers': {'connection': 'close',\n",
        "  'date': 'Mon, 23 Sep 2013 15:25:42 GMT',\n",
        "  'etag': '\"a564eb46d05d6c1fc040ddf1dc904105\"',\n",
        "  'server': 'Apache'},\n",
        " 'href': u'http://bytesizebio.net/feed/',\n",
        " 'status': 304,\n",
        " 'version': u''}"
       ]
      }
     ],
     "prompt_number": 69
    },
    {
     "cell_type": "code",
     "collapsed": false,
     "input": [
      "feedData.entries[1].summary_detail.value"
     ],
     "language": "python",
     "metadata": {},
     "outputs": [
      {
       "output_type": "pyout",
       "prompt_number": 62,
       "text": [
        "u'<hr class=\"docutils\" />\\n<p>Question: What do Nick Loman, Jared Simpson, Lex Nederbragt, and I all have in\\ncommon?</p>\\n<p>Answer: We all spend <em>way</em> too much time thinking about assembly.</p>\\n<hr class=\"docutils\" />\\n<p>Question: What does Jonathan Eisen\\'s lab do?</p>\\n<p>Answer: Sequence lots of really weird things that they\\'d like to assemble.</p>\\n<hr class=\"docutils\" />\\n<div class=\"section\" id=\"an-assembly-masterclass\">\\n<h2>An assembly masterclass</h2>\\n<p>Motivated by conversations during Holly Bik\\'s excellent <a class=\"reference external\" href=\"http://eukaryoticebullience.blogspot.com/2013/05/wrap-up-of-smbeeuks-meeting-and-qiime.html\">SMBE Satellite\\nMeeting on Eukaryotes</a>, it is clear that there is lots of\\ninteresting stuff going on at Davis in general.  But they also have lots of\\nweird and challenging assembly problems.</p>\\n<p>So, I invited us all to run a workshop at Davis, hosted by Holly and\\nfunded by the NIH and NSF, to explore topics at the intersection of\\n&quot;sequencing weird stuff&quot; and &quot;assembling it.&quot;  The goal, in brief, is\\nto explore assembly approaches, algorithms, software, and sequencing\\ndata at a &quot;masterclass&quot; level, which basically means &quot;we\\'re all\\nconfused but we are really experienced at being confused about this\\nparticular topic, so we\\'d like to help you out.&quot;</p>\\n<p>More specifically, we hope for one outcome of this workshop to be a\\nreview paper talking about challenges of sequencing and assembling\\ndiverse critters.  I think we\\'ll also develop some ideas for new\\ndiagnostic tools and approaches while we\\'re there.</p>\\n<p><strong>Attending</strong>: The workshop will be December 16-20th, 2013, and it is\\nis mostly booked up by Eisen lab members. We do have a few spots\\nopen for other people; drop me or Holly a note.  (You\\'d have to supply\\nyour own travel and lodging; this is not a particularly <em>well</em>-funded\\nworkshop. :)</p>\\n<p>As to &quot;Why Davis?&quot;, well, it\\'s where the Eisen Lab is, and also if you\\nare doing something in December, California seems like a better choice\\nthan England (Nick), Oslo (Lex), Toronto (Jared), or Michigan (me).</p>\\n<p>--titus</p>\\n</div>'"
       ]
      }
     ],
     "prompt_number": 62
    }
   ],
   "metadata": {}
  }
 ]
}