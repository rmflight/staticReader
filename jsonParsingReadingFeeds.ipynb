{
 "metadata": {
  "name": "jsonParsingReadingFeeds"
 },
 "nbformat": 3,
 "nbformat_minor": 0,
 "worksheets": [
  {
   "cells": [
    {
     "cell_type": "markdown",
     "metadata": {},
     "source": [
      "# What are we doing?\n",
      "\n",
      "The goal of this project is to make it possible to have a static RSS reader. The actual *server* (for lack of a better term) resides on a computer somewhere that you have access to. This server uses a couple of `JSON` files, one for configuration, and another for defining the feeds to be read. In addition, the actual feed content is stored locally in an `sqlite` file. Web display is achieved using a dedicated location, and interaction (read status, saving for later, etc) is achieved using `javascript` and a gist. \n",
      "\n",
      "Updating content and statuses are done in one go by the user having access to the machine, or using cron jobs on a periodic basis. This is not something that is meant to be always completely up-to-date, but is useful for *binge* consuming of RSS content periodically.\n",
      "\n",
      "## How?\n",
      "\n",
      "Want to use Python to parse the JSON, get and parse the RSS data, and serve it up."
     ]
    },
    {
     "cell_type": "markdown",
     "metadata": {},
     "source": [
      "## Basics\n",
      "\n",
      "Need to import the json, and get the feed data, and interact with it a little"
     ]
    },
    {
     "cell_type": "markdown",
     "metadata": {},
     "source": [
      "### Importing & Reading"
     ]
    },
    {
     "cell_type": "code",
     "collapsed": false,
     "input": [
      "import feedparser\n",
      "import json"
     ],
     "language": "python",
     "metadata": {},
     "outputs": [],
     "prompt_number": 1
    },
    {
     "cell_type": "markdown",
     "metadata": {},
     "source": [
      "### Structure\n",
      "\n",
      "Right now we assume a basic JSON structure of the *title* of the feed, followed by a list dicts that contain the *names* and *urls* for each feed that we want included under that banner."
     ]
    },
    {
     "cell_type": "code",
     "collapsed": false,
     "input": [
      "json_data=open(\"test.json\").read()\n",
      "data = json.loads(json_data)\n",
      "print data"
     ],
     "language": "python",
     "metadata": {},
     "outputs": [
      {
       "output_type": "stream",
       "stream": "stdout",
       "text": [
        "{u'Bioinformatics': [{u'url': u'http://ivory.idyll.org/blog/feeds/all.atom.xml', u'name': u'Ivory Basement'}, {u'url': u'http://bytesizebio.net/feed/', u'name': u'Byte Size Biology'}]}\n"
       ]
      }
     ],
     "prompt_number": 24
    },
    {
     "cell_type": "code",
     "collapsed": false,
     "input": [
      "data.items()\n",
      "data.keys()"
     ],
     "language": "python",
     "metadata": {},
     "outputs": [
      {
       "output_type": "pyout",
       "prompt_number": 19,
       "text": [
        "[u'Bioinformatics']"
       ]
      }
     ],
     "prompt_number": 19
    },
    {
     "cell_type": "code",
     "collapsed": false,
     "input": [
      "data['Bioinformatics'][1]['name']"
     ],
     "language": "python",
     "metadata": {},
     "outputs": [
      {
       "output_type": "pyout",
       "prompt_number": 23,
       "text": [
        "u'Byte Size Biology'"
       ]
      }
     ],
     "prompt_number": 23
    },
    {
     "cell_type": "code",
     "collapsed": false,
     "input": [
      "feedData = feedparser.parse(data['Bioinformatics'][1]['url'])"
     ],
     "language": "python",
     "metadata": {},
     "outputs": [],
     "prompt_number": 25
    },
    {
     "cell_type": "code",
     "collapsed": false,
     "input": [
      "feedData.modified"
     ],
     "language": "python",
     "metadata": {},
     "outputs": [
      {
       "output_type": "pyout",
       "prompt_number": 26,
       "text": [
        "'Fri, 13 Sep 2013 17:51:18 GMT'"
       ]
      }
     ],
     "prompt_number": 26
    },
    {
     "cell_type": "code",
     "collapsed": false,
     "input": [
      "d2 = feedparser.parse(feedLoc[0], modified=feedData.modified)"
     ],
     "language": "python",
     "metadata": {},
     "outputs": [],
     "prompt_number": 68
    },
    {
     "cell_type": "code",
     "collapsed": false,
     "input": [
      "d2"
     ],
     "language": "python",
     "metadata": {},
     "outputs": [
      {
       "output_type": "pyout",
       "prompt_number": 69,
       "text": [
        "{'bozo': 0,\n",
        " 'debug_message': 'The feed has not changed since you last checked, so the server sent no data.  This is a feature, not a bug!',\n",
        " 'entries': [],\n",
        " 'etag': u'\"a564eb46d05d6c1fc040ddf1dc904105\"',\n",
        " 'feed': {},\n",
        " 'headers': {'connection': 'close',\n",
        "  'date': 'Mon, 23 Sep 2013 15:25:42 GMT',\n",
        "  'etag': '\"a564eb46d05d6c1fc040ddf1dc904105\"',\n",
        "  'server': 'Apache'},\n",
        " 'href': u'http://bytesizebio.net/feed/',\n",
        " 'status': 304,\n",
        " 'version': u''}"
       ]
      }
     ],
     "prompt_number": 69
    },
    {
     "cell_type": "code",
     "collapsed": false,
     "input": [
      "feedData.entries[1].summary_detail.value"
     ],
     "language": "python",
     "metadata": {},
     "outputs": [
      {
       "output_type": "pyout",
       "prompt_number": 62,
       "text": [
        "u'<hr class=\"docutils\" />\\n<p>Question: What do Nick Loman, Jared Simpson, Lex Nederbragt, and I all have in\\ncommon?</p>\\n<p>Answer: We all spend <em>way</em> too much time thinking about assembly.</p>\\n<hr class=\"docutils\" />\\n<p>Question: What does Jonathan Eisen\\'s lab do?</p>\\n<p>Answer: Sequence lots of really weird things that they\\'d like to assemble.</p>\\n<hr class=\"docutils\" />\\n<div class=\"section\" id=\"an-assembly-masterclass\">\\n<h2>An assembly masterclass</h2>\\n<p>Motivated by conversations during Holly Bik\\'s excellent <a class=\"reference external\" href=\"http://eukaryoticebullience.blogspot.com/2013/05/wrap-up-of-smbeeuks-meeting-and-qiime.html\">SMBE Satellite\\nMeeting on Eukaryotes</a>, it is clear that there is lots of\\ninteresting stuff going on at Davis in general.  But they also have lots of\\nweird and challenging assembly problems.</p>\\n<p>So, I invited us all to run a workshop at Davis, hosted by Holly and\\nfunded by the NIH and NSF, to explore topics at the intersection of\\n&quot;sequencing weird stuff&quot; and &quot;assembling it.&quot;  The goal, in brief, is\\nto explore assembly approaches, algorithms, software, and sequencing\\ndata at a &quot;masterclass&quot; level, which basically means &quot;we\\'re all\\nconfused but we are really experienced at being confused about this\\nparticular topic, so we\\'d like to help you out.&quot;</p>\\n<p>More specifically, we hope for one outcome of this workshop to be a\\nreview paper talking about challenges of sequencing and assembling\\ndiverse critters.  I think we\\'ll also develop some ideas for new\\ndiagnostic tools and approaches while we\\'re there.</p>\\n<p><strong>Attending</strong>: The workshop will be December 16-20th, 2013, and it is\\nis mostly booked up by Eisen lab members. We do have a few spots\\nopen for other people; drop me or Holly a note.  (You\\'d have to supply\\nyour own travel and lodging; this is not a particularly <em>well</em>-funded\\nworkshop. :)</p>\\n<p>As to &quot;Why Davis?&quot;, well, it\\'s where the Eisen Lab is, and also if you\\nare doing something in December, California seems like a better choice\\nthan England (Nick), Oslo (Lex), Toronto (Jared), or Michigan (me).</p>\\n<p>--titus</p>\\n</div>'"
       ]
      }
     ],
     "prompt_number": 62
    }
   ],
   "metadata": {}
  }
 ]
}